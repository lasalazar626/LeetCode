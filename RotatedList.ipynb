{
  "nbformat": 4,
  "nbformat_minor": 0,
  "metadata": {
    "colab": {
      "name": "RotatedList.ipynb",
      "provenance": [],
      "collapsed_sections": [],
      "authorship_tag": "ABX9TyOP70hB5i9EQvFnpJe/Y+Jv",
      "include_colab_link": true
    },
    "kernelspec": {
      "name": "python3",
      "display_name": "Python 3"
    },
    "language_info": {
      "name": "python"
    }
  },
  "cells": [
    {
      "cell_type": "markdown",
      "metadata": {
        "id": "view-in-github",
        "colab_type": "text"
      },
      "source": [
        "<a href=\"https://colab.research.google.com/github/lasalazar626/LeetCode/blob/main/RotatedList.ipynb\" target=\"_parent\"><img src=\"https://colab.research.google.com/assets/colab-badge.svg\" alt=\"Open In Colab\"/></a>"
      ]
    },
    {
      "cell_type": "code",
      "metadata": {
        "id": "3azbxjaQUD4-",
        "colab": {
          "base_uri": "https://localhost:8080/"
        },
        "outputId": "9a92bc2b-45f9-4f47-f563-21951d166c89"
      },
      "source": [
        "# Use binary search to figure how many times a list was rotated\n",
        "\n",
        "# Keep trying to find the peak \n",
        "\n",
        "ex = [8,9,1,3,5,6,7]\n",
        "ex2 = [2,3,4,5,6]\n",
        "ans = 5\n",
        "\n",
        "\n",
        "def rotatedLiCount(nums):\n",
        "  L,R = 0,len(nums)-1\n",
        "  while L<R:\n",
        "    mid = L + (R-L)//2\n",
        "    if nums[mid+1] < nums[mid]:\n",
        "      return len(nums)-(mid+1)\n",
        "    if nums[mid-1] > nums[mid]:\n",
        "      return len(nums)-(mid)\n",
        "    elif nums[mid] > nums[R]:\n",
        "      L = mid +1\n",
        "    else:\n",
        "      R= mid-1\n",
        "  return 0\n",
        "\n",
        "print(rotatedLiCount(ex2))"
      ],
      "execution_count": null,
      "outputs": [
        {
          "output_type": "stream",
          "name": "stdout",
          "text": [
            "5\n"
          ]
        }
      ]
    },
    {
      "cell_type": "code",
      "source": [
        "# Use binary search to find a value in a rotated list\n",
        "\n",
        "# compare middle value\n",
        "# check if its a peak\n",
        "#reminder that the left side is higher numers than right side\n",
        "# continue as normal the Bin Search\n",
        "\n",
        "ex = [8,9,1,3,5,6,7]\n",
        "ex2 = [3,4,5,6,1,2]\n",
        "ans = 5\n",
        "\n",
        "\n",
        "def rotatedLiSearch(nums,tar):\n",
        "  L,R = 0,len(nums)-1\n",
        "  while L<R:\n",
        "    mid = L + (R-L)//2\n",
        "    if nums[mid] == tar:\n",
        "      return mid\n",
        "    if nums[mid+1]== tar:\n",
        "      return mid+1\n",
        "    if nums[mid-1]==tar:\n",
        "      return mid-1\n",
        "    elif tar> nums[L]:\n",
        "      R = mid\n",
        "    elif tar< nums[R]:\n",
        "      L=mid\n",
        "  return -1\n",
        "\n",
        "\n",
        "\n",
        "    \n",
        "\n",
        "print(rotatedLiSearch(ex2,7))"
      ],
      "metadata": {
        "colab": {
          "base_uri": "https://localhost:8080/"
        },
        "id": "AWcSoh6LUm9T",
        "outputId": "ecea37e5-e06a-46bb-ccb8-a114c5985f6f"
      },
      "execution_count": null,
      "outputs": [
        {
          "output_type": "stream",
          "name": "stdout",
          "text": [
            "-1\n"
          ]
        }
      ]
    }
  ]
}
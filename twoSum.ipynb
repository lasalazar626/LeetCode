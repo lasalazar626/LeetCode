{
  "nbformat": 4,
  "nbformat_minor": 0,
  "metadata": {
    "colab": {
      "name": "twoSum.ipynb",
      "provenance": [],
      "authorship_tag": "ABX9TyN1kCit0rvdMBguLZg4qJKL",
      "include_colab_link": true
    },
    "kernelspec": {
      "name": "python3",
      "display_name": "Python 3"
    },
    "language_info": {
      "name": "python"
    }
  },
  "cells": [
    {
      "cell_type": "markdown",
      "metadata": {
        "id": "view-in-github",
        "colab_type": "text"
      },
      "source": [
        "<a href=\"https://colab.research.google.com/github/lasalazar626/LeetCode/blob/main/twoSum.ipynb\" target=\"_parent\"><img src=\"https://colab.research.google.com/assets/colab-badge.svg\" alt=\"Open In Colab\"/></a>"
      ]
    },
    {
      "cell_type": "markdown",
      "source": [
        ""
      ],
      "metadata": {
        "id": "qVMoKB2sHpfb"
      }
    },
    {
      "cell_type": "markdown",
      "source": [
        "Two Sum \n"
      ],
      "metadata": {
        "id": "UXAcC3ONHttR"
      }
    },
    {
      "cell_type": "code",
      "source": [
        "# Example \n",
        "\n",
        "Test = [1,3,7,9,2]\n",
        "Tar = 11\n",
        "\n",
        "ans = [3,4]\n",
        "\n",
        "#.     9+2 = 11\n"
      ],
      "metadata": {
        "id": "iqClmcFdHwXn"
      },
      "execution_count": null,
      "outputs": []
    },
    {
      "cell_type": "code",
      "source": [
        "def two_sum(arr,tar):\n",
        "  if len(arr) == 0 or len(arr)==1:\n",
        "    return -1,-1\n",
        "\n",
        "  # we first loop. through the array to construct our Hash\n",
        "  map = {}\n",
        "  for i in range(len(arr)):\n",
        "      map[tar-arr[i]] = i\n",
        "  for i in range(len(arr)):\n",
        "    if arr[i] in map:\n",
        "      return i, map[arr[i]]\n",
        "  return -1,-1\n",
        "\n"
      ],
      "metadata": {
        "id": "HnYLK2kyIIf5"
      },
      "execution_count": null,
      "outputs": []
    },
    {
      "cell_type": "code",
      "source": [
        "print(two_sum(Test,Tar))"
      ],
      "metadata": {
        "colab": {
          "base_uri": "https://localhost:8080/"
        },
        "id": "UhawQj1xL4Pu",
        "outputId": "bda31182-00fe-4f02-9755-d47a1c0a1846"
      },
      "execution_count": null,
      "outputs": [
        {
          "output_type": "stream",
          "name": "stdout",
          "text": [
            "(3, 4)\n"
          ]
        }
      ]
    }
  ]
}
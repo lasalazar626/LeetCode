{
  "nbformat": 4,
  "nbformat_minor": 0,
  "metadata": {
    "colab": {
      "name": "BinarySearch.ipynb",
      "provenance": [],
      "authorship_tag": "ABX9TyPFKDHyKCSQKR3Tdedgwtsy",
      "include_colab_link": true
    },
    "kernelspec": {
      "name": "python3",
      "display_name": "Python 3"
    },
    "language_info": {
      "name": "python"
    }
  },
  "cells": [
    {
      "cell_type": "markdown",
      "metadata": {
        "id": "view-in-github",
        "colab_type": "text"
      },
      "source": [
        "<a href=\"https://colab.research.google.com/github/lasalazar626/LeetCode/blob/main/BinarySearch.ipynb\" target=\"_parent\"><img src=\"https://colab.research.google.com/assets/colab-badge.svg\" alt=\"Open In Colab\"/></a>"
      ]
    },
    {
      "cell_type": "markdown",
      "source": [
        "This is a notebook detaling my attept at binary Search. Lets first being with Novice solutions and continue into more sophisticated answers.\n"
      ],
      "metadata": {
        "id": "GzQ6PitgPvgT"
      }
    },
    {
      "cell_type": "code",
      "source": [
        "test = {\n",
        "    \"input\":{\n",
        "        'cards':[13,11,10,7,4,3,1,0],\n",
        "        \"target\":7\n",
        "    },\n",
        "    'output':3\n",
        "}"
      ],
      "metadata": {
        "id": "bFjh2FqbRNAy"
      },
      "execution_count": null,
      "outputs": []
    },
    {
      "cell_type": "code",
      "source": [
        "# this is the brute force using a for loop\n",
        "def bruteForce_1(cards,target):\n",
        "  for i in range(len(cards)):\n",
        "    if cards[i] == target:\n",
        "      return i\n",
        "  return \"Not Found\""
      ],
      "metadata": {
        "id": "Ug3nMGlRP-jY"
      },
      "execution_count": null,
      "outputs": []
    },
    {
      "cell_type": "code",
      "source": [
        "print(bruteForce_1(**test[\"input\"]) == test['output'])"
      ],
      "metadata": {
        "colab": {
          "base_uri": "https://localhost:8080/"
        },
        "id": "pinaduXoRidk",
        "outputId": "55ea24c3-060e-41e3-c5af-2b0d204def91"
      },
      "execution_count": null,
      "outputs": [
        {
          "output_type": "stream",
          "name": "stdout",
          "text": [
            "True\n"
          ]
        }
      ]
    },
    {
      "cell_type": "code",
      "source": [
        "# this is the brute force using a while loop\n",
        "def bruteForce_2(cards,target):\n",
        "  position = 0\n",
        "  while position<len(cards):\n",
        "    if cards[position] == target:\n",
        "      return position\n",
        "    position +=1\n",
        "  return -1\n"
      ],
      "metadata": {
        "id": "6Diton7cSP97"
      },
      "execution_count": null,
      "outputs": []
    },
    {
      "cell_type": "code",
      "source": [
        "print(bruteForce_2(**test[\"input\"]) == test['output'])"
      ],
      "metadata": {
        "colab": {
          "base_uri": "https://localhost:8080/"
        },
        "id": "GLXE4QrKgDll",
        "outputId": "f2bc3ec7-ee19-4583-919a-1a190738d28a"
      },
      "execution_count": null,
      "outputs": [
        {
          "output_type": "stream",
          "name": "stdout",
          "text": [
            "True\n"
          ]
        }
      ]
    },
    {
      "cell_type": "code",
      "source": [
        "ex = [1,3,4,5,7,8,9,3]\n",
        "print(len(ex))\n",
        "print(ex[7])\n",
        "\n",
        "print(\"Conventional\", (0+7)//2)\n",
        "print(\"Overflow\", 0+(7-0)//2)\n",
        "print(-7//2 *-1)"
      ],
      "metadata": {
        "colab": {
          "base_uri": "https://localhost:8080/"
        },
        "id": "SwvJmnf_gF-a",
        "outputId": "4e4caa6a-7c18-4cc8-ee7e-2e451f4355a6"
      },
      "execution_count": null,
      "outputs": [
        {
          "output_type": "stream",
          "name": "stdout",
          "text": [
            "8\n",
            "3\n",
            "Conventional 3\n",
            "Overflow 3\n",
            "4\n"
          ]
        }
      ]
    },
    {
      "cell_type": "code",
      "source": [
        "print(range(8))"
      ],
      "metadata": {
        "colab": {
          "base_uri": "https://localhost:8080/"
        },
        "id": "94L10KDVgaIN",
        "outputId": "4d6a6bc9-a122-4c5e-f01d-a23f3822149a"
      },
      "execution_count": null,
      "outputs": [
        {
          "output_type": "stream",
          "name": "stdout",
          "text": [
            "range(0, 8)\n"
          ]
        }
      ]
    },
    {
      "cell_type": "code",
      "source": [
        "def bin_search(cards,target):\n",
        "  if len(cards) == 0:\n",
        "    return -1\n",
        "  # Calulcate our initial point, Last point and mid point\n",
        "  hi = len(cards) -1\n",
        "  lo = 0\n",
        "  \n",
        "  while lo<=hi:\n",
        "    mid = lo+ (hi-lo)//2\n",
        "    if cards[mid]==target:\n",
        "      return mid\n",
        "    if cards[mid]<target:\n",
        "      hi = mid-1\n",
        "    else:\n",
        "      lo = mid+1\n",
        "  return -1"
      ],
      "metadata": {
        "id": "kdDSce_9gog_"
      },
      "execution_count": null,
      "outputs": []
    },
    {
      "cell_type": "code",
      "source": [
        "print(bin_search(**test[\"input\"]) == test['output'])"
      ],
      "metadata": {
        "colab": {
          "base_uri": "https://localhost:8080/"
        },
        "id": "NdQ9efFzW8Sp",
        "outputId": "ab9c4618-825c-4327-d220-073ad846668b"
      },
      "execution_count": null,
      "outputs": [
        {
          "output_type": "stream",
          "name": "stdout",
          "text": [
            "True\n"
          ]
        }
      ]
    },
    {
      "cell_type": "code",
      "source": [
        "car = []\n",
        "print(len(car))"
      ],
      "metadata": {
        "colab": {
          "base_uri": "https://localhost:8080/"
        },
        "id": "VIB0lcREp6DI",
        "outputId": "d549b217-1338-410c-c91c-5499761d9c2d"
      },
      "execution_count": null,
      "outputs": [
        {
          "output_type": "stream",
          "name": "stdout",
          "text": [
            "0\n"
          ]
        }
      ]
    },
    {
      "cell_type": "code",
      "source": [
        "dec = []\n",
        "look = 19\n",
        "\n",
        "print(bin_search(dec,look))"
      ],
      "metadata": {
        "colab": {
          "base_uri": "https://localhost:8080/"
        },
        "id": "CNCQ6Qm-XIMF",
        "outputId": "897eb27d-639e-43c4-c32c-871831e0f764"
      },
      "execution_count": null,
      "outputs": [
        {
          "output_type": "stream",
          "name": "stdout",
          "text": [
            "-1\n"
          ]
        }
      ]
    },
    {
      "cell_type": "markdown",
      "source": [
        "Time to try the assignment "
      ],
      "metadata": {
        "id": "CHyD2uBl8baC"
      }
    },
    {
      "cell_type": "code",
      "source": [
        "def most_min(cards, taregt):\n",
        "  lo,hi= 0, len(cards)-1\n",
        "  ans = -1\n",
        "  while lo<=hi:\n",
        "    mid = lo + (hi-lo)//2\n",
        "    if cards[mid] >=taregt:\n",
        "      ans = mid\n",
        "      hi = mid-1\n",
        "    else:\n",
        "      lo = mid+1 \n",
        "  return ans"
      ],
      "metadata": {
        "id": "cmpHAQ7Z8iaG"
      },
      "execution_count": null,
      "outputs": []
    },
    {
      "cell_type": "code",
      "source": [
        "ex_2 = [2,3,5,7,8,12,14,16]\n",
        "print(most_min(ex_2,4))"
      ],
      "metadata": {
        "colab": {
          "base_uri": "https://localhost:8080/"
        },
        "id": "U0MYWzOIArq5",
        "outputId": "619e3273-b133-4b6f-a72a-7592af3c7ba2"
      },
      "execution_count": null,
      "outputs": [
        {
          "output_type": "stream",
          "name": "stdout",
          "text": [
            "2\n"
          ]
        }
      ]
    },
    {
      "cell_type": "code",
      "source": [
        ""
      ],
      "metadata": {
        "id": "wpud_BrXAy-9"
      },
      "execution_count": null,
      "outputs": []
    }
  ]
}